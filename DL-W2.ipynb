{
 "cells": [
  {
   "cell_type": "markdown",
   "metadata": {},
   "source": [
    "# 向量化练习,计算向量x1、x2的内积、外积"
   ]
  },
  {
   "cell_type": "code",
   "execution_count": 2,
   "metadata": {},
   "outputs": [],
   "source": [
    "import numpy as np\n",
    "import time"
   ]
  },
  {
   "cell_type": "code",
   "execution_count": 3,
   "metadata": {
    "collapsed": true
   },
   "outputs": [
    {
     "name": "stdout",
     "output_type": "stream",
     "text": [
      "x1:\n",
      "[9, 2, 5, 0, 0, 7, 5, 0, 0, 0, 9, 2, 5, 0, 0]\n",
      "(15,)\n",
      "<class 'list'>\n",
      "\n",
      "x11:\n",
      "[9 2 5 0 0 7 5 0 0 0 9 2 5 0 0]\n",
      "(15,)\n",
      "<class 'numpy.ndarray'>\n",
      "1\n",
      "\n",
      "x12 reshape:\n",
      "[[9 2 5 0 0 7 5 0 0 0 9 2 5 0 0]]\n",
      "(1, 15)\n",
      "<class 'numpy.ndarray'>\n",
      "2\n"
     ]
    }
   ],
   "source": [
    "x1 = [9, 2, 5, 0, 0, 7, 5, 0, 0, 0, 9, 2, 5, 0, 0]\n",
    "x2 = [9, 2, 2, 9, 0, 9, 2, 5, 0, 0, 9, 2, 5, 0, 0]\n",
    "\n",
    "# 数组、矩阵类型及区别\n",
    "print(\"x1:\")\n",
    "print(x1)\n",
    "print(np.shape(x1))\n",
    "print(type(x1))\n",
    "print(\"\\nx11:\")\n",
    "x11=np.array(x1)\n",
    "print(x11)\n",
    "print(x11.shape)\n",
    "print(type(x11))\n",
    "print(x11.ndim)\n",
    "print(\"\\nx12 reshape:\")\n",
    "x12=x11.reshape(1,-1)\n",
    "print(x12)\n",
    "print(x12.shape)\n",
    "print(type(x12))\n",
    "print(x12.ndim)"
   ]
  },
  {
   "cell_type": "code",
   "execution_count": 26,
   "metadata": {
    "collapsed": true
   },
   "outputs": [
    {
     "name": "stdout",
     "output_type": "stream",
     "text": [
      "x1: 15\n",
      "x11: 15\n",
      "x11 shape: 15\n",
      "x12: 1\n"
     ]
    }
   ],
   "source": [
    "#求长度 len,size,shape\n",
    "print(\"x1: \"+str(len(x1)))\n",
    "print(\"x11: \"+str(len(x11)))\n",
    "print(\"x11 shape: \" + str(x11.shape[0]))\n",
    "print(\"x12: \"+str(len(x12)))"
   ]
  },
  {
   "cell_type": "code",
   "execution_count": 38,
   "metadata": {},
   "outputs": [
    {
     "name": "stdout",
     "output_type": "stream",
     "text": [
      "dot = 278\n",
      " ----- Computation time = 0.16205299999949574ms\n",
      "dot = 278\n",
      " ----- Computation time = 0.09727000000037123ms\n"
     ]
    }
   ],
   "source": [
    "#内积（dot product） 经典\n",
    "tic = time.process_time()\n",
    "dot = 0\n",
    "\n",
    "for i in range(len(x1)):\n",
    "    dot += x1[i]*x2[i]\n",
    "    \n",
    "toc = time.process_time()\n",
    "print (\"dot = \" + str(dot) + \"\\n ----- Computation time = \" + str(1000*(toc - tic)) + \"ms\")\n",
    "\n",
    "#向量化\n",
    "tic = time.process_time()\n",
    "dot = np.dot(x1,x2)\n",
    "toc = time.process_time()\n",
    "print (\"dot = \" + str(dot) + \"\\n ----- Computation time = \" + str(1000*(toc - tic)) + \"ms\")"
   ]
  },
  {
   "cell_type": "code",
   "execution_count": 40,
   "metadata": {
    "collapsed": true
   },
   "outputs": [
    {
     "name": "stdout",
     "output_type": "stream",
     "text": [
      "outer = [[81. 18. 18. 81.  0. 81. 18. 45.  0.  0. 81. 18. 45.  0.  0.]\n",
      " [18.  4.  4. 18.  0. 18.  4. 10.  0.  0. 18.  4. 10.  0.  0.]\n",
      " [45. 10. 10. 45.  0. 45. 10. 25.  0.  0. 45. 10. 25.  0.  0.]\n",
      " [ 0.  0.  0.  0.  0.  0.  0.  0.  0.  0.  0.  0.  0.  0.  0.]\n",
      " [ 0.  0.  0.  0.  0.  0.  0.  0.  0.  0.  0.  0.  0.  0.  0.]\n",
      " [63. 14. 14. 63.  0. 63. 14. 35.  0.  0. 63. 14. 35.  0.  0.]\n",
      " [45. 10. 10. 45.  0. 45. 10. 25.  0.  0. 45. 10. 25.  0.  0.]\n",
      " [ 0.  0.  0.  0.  0.  0.  0.  0.  0.  0.  0.  0.  0.  0.  0.]\n",
      " [ 0.  0.  0.  0.  0.  0.  0.  0.  0.  0.  0.  0.  0.  0.  0.]\n",
      " [ 0.  0.  0.  0.  0.  0.  0.  0.  0.  0.  0.  0.  0.  0.  0.]\n",
      " [81. 18. 18. 81.  0. 81. 18. 45.  0.  0. 81. 18. 45.  0.  0.]\n",
      " [18.  4.  4. 18.  0. 18.  4. 10.  0.  0. 18.  4. 10.  0.  0.]\n",
      " [45. 10. 10. 45.  0. 45. 10. 25.  0.  0. 45. 10. 25.  0.  0.]\n",
      " [ 0.  0.  0.  0.  0.  0.  0.  0.  0.  0.  0.  0.  0.  0.  0.]\n",
      " [ 0.  0.  0.  0.  0.  0.  0.  0.  0.  0.  0.  0.  0.  0.  0.]]\n",
      " ---- Computation time = 0.4542890000003297ms\n",
      "outer = [[81 18 18 81  0 81 18 45  0  0 81 18 45  0  0]\n",
      " [18  4  4 18  0 18  4 10  0  0 18  4 10  0  0]\n",
      " [45 10 10 45  0 45 10 25  0  0 45 10 25  0  0]\n",
      " [ 0  0  0  0  0  0  0  0  0  0  0  0  0  0  0]\n",
      " [ 0  0  0  0  0  0  0  0  0  0  0  0  0  0  0]\n",
      " [63 14 14 63  0 63 14 35  0  0 63 14 35  0  0]\n",
      " [45 10 10 45  0 45 10 25  0  0 45 10 25  0  0]\n",
      " [ 0  0  0  0  0  0  0  0  0  0  0  0  0  0  0]\n",
      " [ 0  0  0  0  0  0  0  0  0  0  0  0  0  0  0]\n",
      " [ 0  0  0  0  0  0  0  0  0  0  0  0  0  0  0]\n",
      " [81 18 18 81  0 81 18 45  0  0 81 18 45  0  0]\n",
      " [18  4  4 18  0 18  4 10  0  0 18  4 10  0  0]\n",
      " [45 10 10 45  0 45 10 25  0  0 45 10 25  0  0]\n",
      " [ 0  0  0  0  0  0  0  0  0  0  0  0  0  0  0]\n",
      " [ 0  0  0  0  0  0  0  0  0  0  0  0  0  0  0]]\n",
      " ----- Computation time = 0.18625999999954956ms\n"
     ]
    }
   ],
   "source": [
    "#外积 （outer product）\n",
    "tic = time.process_time()\n",
    "outer = np.zeros((len(x1),len(x2)))\n",
    "\n",
    "for i in range(len(x1)):\n",
    "    for j in range(len(x2)):\n",
    "        outer[i,j]=x1[i]*x2[j]\n",
    "\n",
    "toc = time.process_time()\n",
    "print (\"outer = \" +str(outer)+ \"\\n ---- Computation time = \" +str(1000*(toc-tic))+\"ms\")\n",
    "\n",
    "\n",
    "#向量化\n",
    "tic = time.process_time()\n",
    "outer = np.outer(x1,x2)\n",
    "toc = time.process_time()\n",
    "print (\"outer = \" + str(outer) + \"\\n ----- Computation time = \" + str(1000*(toc - tic)) + \"ms\")"
   ]
  },
  {
   "cell_type": "code",
   "execution_count": 41,
   "metadata": {},
   "outputs": [
    {
     "name": "stdout",
     "output_type": "stream",
     "text": [
      "elementwise = [81.  4. 10.  0.  0. 63. 10.  0.  0.  0. 81.  4. 25.  0.  0.]\n",
      " ---- Computation time = 0.1892999999997258ms\n",
      "elementwise multiplication = [81  4 10  0  0 63 10  0  0  0 81  4 25  0  0]\n",
      " ----- Computation time = 0.10311399999984872ms\n"
     ]
    }
   ],
   "source": [
    "#对元素操作 （elementwise）\n",
    "tic = time.process_time()\n",
    "assert len(x1)==len(x2)\n",
    "elewise = np.zeros(len(x1))\n",
    "for i in range(len(x1)):\n",
    "    elewise[i] = x1[i]*x2[i]\n",
    "\n",
    "toc = time.process_time()\n",
    "print (\"elementwise = \" + str(elewise)+ \"\\n ---- Computation time = \" +str(1000*(toc-tic))+\"ms\" )\n",
    "\n",
    "#向量化\n",
    "tic = time.process_time()\n",
    "mul = np.multiply(x1,x2)\n",
    "toc = time.process_time()\n",
    "print (\"elementwise multiplication = \" + str(mul) + \"\\n ----- Computation time = \" + str(1000*(toc - tic)) + \"ms\")"
   ]
  },
  {
   "cell_type": "code",
   "execution_count": 43,
   "metadata": {
    "collapsed": true
   },
   "outputs": [
    {
     "name": "stdout",
     "output_type": "stream",
     "text": [
      "[[0.06004298 0.83993651 0.40698291 0.66569218 0.59285938 0.86967973\n",
      "  0.34878008 0.08422812 0.22085165 0.51143498 0.17592105 0.16514098\n",
      "  0.77918754 0.99555384 0.04399052]\n",
      " [0.1503287  0.88737274 0.33574334 0.53937347 0.45184042 0.55846776\n",
      "  0.07074733 0.86777381 0.77254608 0.00963446 0.57935333 0.73791058\n",
      "  0.58208285 0.72448604 0.69530792]\n",
      " [0.00731933 0.90240049 0.96048226 0.46743788 0.67284457 0.32052435\n",
      "  0.46269867 0.15767594 0.12534812 0.49992348 0.42955622 0.50393579\n",
      "  0.25538014 0.98876806 0.44303198]]\n",
      "gdot = [17.89634196 18.66984687 17.38102823]\n",
      " ---- Computation time = 2.0885010000002424ms\n",
      "gdot = [17.89634196 18.66984687 17.38102823]\n",
      " ----- Computation time = 0.10567799999972038ms\n"
     ]
    },
    {
     "ename": "ValueError",
     "evalue": "shapes (15,) and (3,15) not aligned: 15 (dim 0) != 3 (dim 0)",
     "output_type": "error",
     "traceback": [
      "\u001b[0;31m---------------------------------------------------------------------------\u001b[0m",
      "\u001b[0;31mValueError\u001b[0m                                Traceback (most recent call last)",
      "\u001b[0;32m<ipython-input-43-c170d3b05d4a>\u001b[0m in \u001b[0;36m<module>\u001b[0;34m\u001b[0m\n\u001b[1;32m     17\u001b[0m \u001b[0mprint\u001b[0m \u001b[0;34m(\u001b[0m\u001b[0;34m\"gdot = \"\u001b[0m \u001b[0;34m+\u001b[0m \u001b[0mstr\u001b[0m\u001b[0;34m(\u001b[0m\u001b[0mmul\u001b[0m\u001b[0;34m)\u001b[0m \u001b[0;34m+\u001b[0m \u001b[0;34m\"\\n ----- Computation time = \"\u001b[0m \u001b[0;34m+\u001b[0m \u001b[0mstr\u001b[0m\u001b[0;34m(\u001b[0m\u001b[0;36m1000\u001b[0m\u001b[0;34m*\u001b[0m\u001b[0;34m(\u001b[0m\u001b[0mtoc\u001b[0m \u001b[0;34m-\u001b[0m \u001b[0mtic\u001b[0m\u001b[0;34m)\u001b[0m\u001b[0;34m)\u001b[0m \u001b[0;34m+\u001b[0m \u001b[0;34m\"ms\"\u001b[0m\u001b[0;34m)\u001b[0m\u001b[0;34m\u001b[0m\u001b[0;34m\u001b[0m\u001b[0m\n\u001b[1;32m     18\u001b[0m \u001b[0;34m\u001b[0m\u001b[0m\n\u001b[0;32m---> 19\u001b[0;31m \u001b[0mmul2\u001b[0m \u001b[0;34m=\u001b[0m \u001b[0mnp\u001b[0m\u001b[0;34m.\u001b[0m\u001b[0mdot\u001b[0m\u001b[0;34m(\u001b[0m\u001b[0mx1\u001b[0m\u001b[0;34m,\u001b[0m\u001b[0mw\u001b[0m\u001b[0;34m)\u001b[0m\u001b[0;34m\u001b[0m\u001b[0;34m\u001b[0m\u001b[0m\n\u001b[0m\u001b[1;32m     20\u001b[0m \u001b[0mprint\u001b[0m\u001b[0;34m(\u001b[0m\u001b[0mmul2\u001b[0m\u001b[0;34m)\u001b[0m\u001b[0;34m\u001b[0m\u001b[0;34m\u001b[0m\u001b[0m\n",
      "\u001b[0;32m<__array_function__ internals>\u001b[0m in \u001b[0;36mdot\u001b[0;34m(*args, **kwargs)\u001b[0m\n",
      "\u001b[0;31mValueError\u001b[0m: shapes (15,) and (3,15) not aligned: 15 (dim 0) != 3 (dim 0)"
     ]
    }
   ],
   "source": [
    "#内积（矩阵）\n",
    "tic = time.process_time()\n",
    "w = np.random.rand(3,len(x1))\n",
    "print(w)\n",
    "gdot = np.zeros(w.shape[0]) #C模式：shape[0]为矩阵列数\n",
    "for i in range(w.shape[0]):\n",
    "    for j in range(len(x1)):\n",
    "        gdot[i] += w[i,j]*x1[j]\n",
    "        \n",
    "toc = time.process_time()\n",
    "print (\"gdot = \" + str(gdot)+ \"\\n ---- Computation time = \" +str(1000*(toc-tic))+\"ms\" )\n",
    "\n",
    "#向量化\n",
    "tic = time.process_time()\n",
    "mul = np.dot(w,x1)\n",
    "toc = time.process_time()\n",
    "print (\"gdot = \" + str(mul) + \"\\n ----- Computation time = \" + str(1000*(toc - tic)) + \"ms\")\n",
    "\n",
    "mul2 = np.dot(x1,w) ##this is wrong\n",
    "print(mul2)"
   ]
  },
  {
   "cell_type": "markdown",
   "metadata": {},
   "source": [
    "# logistic梯度下降用到的函数"
   ]
  },
  {
   "cell_type": "code",
   "execution_count": 47,
   "metadata": {},
   "outputs": [],
   "source": [
    "#损失函数\n",
    "\n",
    "def L1(yhat,y):\n",
    "    loss = np.sum(np.abs(yhat-y))\n",
    "    return loss\n",
    "\n",
    "def L2(yhat,y):\n",
    "    loss = np.dot(yhat-y,(yhat-y).T)\n",
    "    return loss"
   ]
  },
  {
   "cell_type": "code",
   "execution_count": 48,
   "metadata": {},
   "outputs": [
    {
     "name": "stdout",
     "output_type": "stream",
     "text": [
      "L1 = 1.1\n",
      "L2 = 0.43\n"
     ]
    }
   ],
   "source": [
    "yhat = np.array([.9, 0.2, 0.1, .4, .9])\n",
    "y = np.array([1, 0, 0, 1, 1])\n",
    "print(\"L1 = \" + str(L1(yhat,y)))\n",
    "\n",
    "yhat = np.array([.9, 0.2, 0.1, .4, .9])\n",
    "y = np.array([1, 0, 0, 1, 1])\n",
    "print(\"L2 = \" + str(L2(yhat,y)))"
   ]
  }
 ],
 "metadata": {
  "kernelspec": {
   "display_name": "Python 3",
   "language": "python",
   "name": "python3"
  },
  "language_info": {
   "codemirror_mode": {
    "name": "ipython",
    "version": 3
   },
   "file_extension": ".py",
   "mimetype": "text/x-python",
   "name": "python",
   "nbconvert_exporter": "python",
   "pygments_lexer": "ipython3",
   "version": "3.8.5"
  },
  "varInspector": {
   "cols": {
    "lenName": 16,
    "lenType": 16,
    "lenVar": 40
   },
   "kernels_config": {
    "python": {
     "delete_cmd_postfix": "",
     "delete_cmd_prefix": "del ",
     "library": "var_list.py",
     "varRefreshCmd": "print(var_dic_list())"
    },
    "r": {
     "delete_cmd_postfix": ") ",
     "delete_cmd_prefix": "rm(",
     "library": "var_list.r",
     "varRefreshCmd": "cat(var_dic_list()) "
    }
   },
   "types_to_exclude": [
    "module",
    "function",
    "builtin_function_or_method",
    "instance",
    "_Feature"
   ],
   "window_display": false
  }
 },
 "nbformat": 4,
 "nbformat_minor": 4
}
