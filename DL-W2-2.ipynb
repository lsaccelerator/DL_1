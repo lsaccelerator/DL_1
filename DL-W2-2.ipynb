{
 "cells": [
  {
   "cell_type": "markdown",
   "id": "ethical-plant",
   "metadata": {},
   "source": [
    "# 导入数据及标准化"
   ]
  },
  {
   "cell_type": "code",
   "execution_count": 4,
   "id": "respiratory-toolbox",
   "metadata": {},
   "outputs": [],
   "source": [
    "import numpy as np\n",
    "import matplotlib.pyplot as plt\n",
    "import h5py\n",
    "import scipy\n",
    "from PIL import Image\n",
    "from scipy import ndimage\n",
    "from lr_utils import load_dataset\n",
    "\n",
    "\n",
    "%matplotlib inline"
   ]
  },
  {
   "cell_type": "code",
   "execution_count": 3,
   "id": "opening-progressive",
   "metadata": {},
   "outputs": [
    {
     "name": "stdout",
     "output_type": "stream",
     "text": [
      "/home/cid/22C/DL/DL/o\n"
     ]
    }
   ],
   "source": [
    "cd o"
   ]
  },
  {
   "cell_type": "code",
   "execution_count": 5,
   "id": "parallel-slovakia",
   "metadata": {},
   "outputs": [],
   "source": [
    "# Loading the data (cat/non-cat)\n",
    "# 以下都是函数load_dataset()的返回值\n",
    "train_set_x_orig, train_set_y, test_set_x_orig, test_set_y, classes = load_dataset()\n"
   ]
  },
  {
   "cell_type": "code",
   "execution_count": 12,
   "id": "revised-individual",
   "metadata": {},
   "outputs": [
    {
     "name": "stdout",
     "output_type": "stream",
     "text": [
      "y = [0], it's a 'non-cat' picture.\n"
     ]
    },
    {
     "data": {
      "image/png": "[encoded data removed]",
      "text/plain": [
       "<Figure size 432x288 with 1 Axes>"
      ]
     },
     "metadata": {
      "needs_background": "light"
     },
     "output_type": "display_data"
    }
   ],
   "source": [
    "# Example of a picture\n",
    "index = 208\n",
    "plt.imshow(train_set_x_orig[index])\n",
    "print (\"y = \" + str(train_set_y[:, index]) + \", it's a '\" + classes[np.squeeze(train_set_y[:, index])].decode(\"utf-8\") +  \"' picture.\")"
   ]
  },
  {
   "cell_type": "markdown",
   "id": "relevant-kinase",
   "metadata": {},
   "source": [
    "“train_set_x_orig”是一个维度为（m_train，num_px，num_px，3）的numpy数组。 例如，你可以通过编写“ train_set_x_orig.shape [0]”来访问“ m_train”。\n",
    "\n",
    "         m_train（训练集示例数量）\n",
    "         m_test（测试集示例数量）\n",
    "         num_px（=训练图像的高度=训练图像的宽度）"
   ]
  },
  {
   "cell_type": "code",
   "execution_count": 13,
   "id": "organizational-defeat",
   "metadata": {},
   "outputs": [
    {
     "name": "stdout",
     "output_type": "stream",
     "text": [
      "209\n",
      "64\n",
      "train_set_x shape: (209, 64, 64, 3)\n",
      "train_set_y shape: (1, 209)\n",
      "test_set_x shape: (50, 64, 64, 3)\n",
      "test_set_y shape: (1, 50)\n"
     ]
    }
   ],
   "source": [
    "m_train = train_set_x_orig.shape[0]\n",
    "num_px = train_set_x_orig.shape[1]\n",
    "\n",
    "print(m_train)\n",
    "print(num_px)\n",
    "\n",
    "print (\"train_set_x shape: \" + str(train_set_x_orig.shape))\n",
    "print (\"train_set_y shape: \" + str(train_set_y.shape))\n",
    "print (\"test_set_x shape: \" + str(test_set_x_orig.shape))\n",
    "print (\"test_set_y shape: \" + str(test_set_y.shape))"
   ]
  },
  {
   "cell_type": "markdown",
   "id": "transsexual-constraint",
   "metadata": {},
   "source": [
    "重塑训练和测试数据集，以便将大小（num_px，num_px，3）的图像展平为单个形状的向量(num_px\\*num_px\\*3, 1)。(每列为一个图像)"
   ]
  },
  {
   "cell_type": "code",
   "execution_count": 18,
   "id": "extensive-digit",
   "metadata": {},
   "outputs": [
    {
     "name": "stdout",
     "output_type": "stream",
     "text": [
      "X_flatten shape: (12288, 209)\n",
      "in which 64*64*3 = 12288\n"
     ]
    }
   ],
   "source": [
    "X_flatten = train_set_x_orig.reshape(m_train,-1).T\n",
    "print(\"X_flatten shape: \" + str(X_flatten.shape))\n",
    "print(\"in which \" + \"64*64*3 = \" + str(64*64*3) )\n",
    "\n",
    "test_set_x_flatten = test_set_x_orig.reshape(test_set_x_orig.shape[0], -1).T"
   ]
  },
  {
   "cell_type": "code",
   "execution_count": 20,
   "id": "limited-tuner",
   "metadata": {},
   "outputs": [],
   "source": [
    "train_set_x = X_flatten/255.\n",
    "test_set_x = test_set_x_flatten/255."
   ]
  },
  {
   "cell_type": "markdown",
   "id": "soviet-cleanup",
   "metadata": {},
   "source": [
    "# 构建算法"
   ]
  },
  {
   "cell_type": "code",
   "execution_count": 21,
   "id": "expressed-sunset",
   "metadata": {},
   "outputs": [],
   "source": [
    "# 激活函数：sigmoid\n",
    "def sigmoid(z):\n",
    "    a = 1 / (1+np.exp(-z))\n",
    "    return a"
   ]
  },
  {
   "cell_type": "code",
   "execution_count": 22,
   "id": "excited-advisory",
   "metadata": {},
   "outputs": [],
   "source": [
    "# 初始化w,b（assert ？）\n",
    "\n",
    "# GRADED FUNCTION: initialize_with_zeros\n",
    "\n",
    "def initialize_with_zeros(dim):\n",
    "    \"\"\"\n",
    "    This function creates a vector of zeros of shape (dim, 1) for w and initializes b to 0.\n",
    "    \n",
    "    Argument:\n",
    "    dim -- size of the w vector we want (or number of parameters in this case)\n",
    "    \n",
    "    Returns:\n",
    "    w -- initialized vector of shape (dim, 1)\n",
    "    b -- initialized scalar (corresponds to the bias)\n",
    "    \"\"\"\n",
    "    \n",
    "    ### START CODE HERE ### (≈ 1 line of code)\n",
    "    w = np.zeros((dim, 1))\n",
    "    b = 0\n",
    "    ### END CODE HERE ###\n",
    "\n",
    "    assert(w.shape == (dim, 1))\n",
    "    assert(isinstance(b, float) or isinstance(b, int))\n",
    "    \n",
    "    return w, b\n",
    "\n"
   ]
  },
  {
   "cell_type": "code",
   "execution_count": 23,
   "id": "three-despite",
   "metadata": {},
   "outputs": [],
   "source": [
    "# 正向传播\n",
    "def propagate(w,b,X,Y):\n",
    "    m = Y.shape[1]\n",
    " \n",
    "    # FORWARD PROPAGATION (FROM X TO COST)\n",
    "    z = np.dot(w.T,X)+b\n",
    "    A = sigmoid(z)  #这里并不需要中间的z，合成一句\n",
    "    cost = -1/m * np.sum(log(A)*Y+log(1-A)*(1-Y))   #因为A和Y和是同一个形状，A是Y的预测值，X则和它们列数相同\n",
    "\n",
    "    # BACKWARD PROPAGATION (TO FIND GRAD)\n",
    "    dw = 1/m * np.dot(X,(A-Y).T)\n",
    "    db = 1/m * np.sum((A-Y))\n",
    "    \n",
    "    assert(dw.shape == w.shape)\n",
    "    assert(db.dtype == float)\n",
    "    cost = np.squeeze(cost)      #squeeze?\n",
    "    assert(cost.shape == ())\n",
    "    \n",
    "    grads = {\"dw\": dw,\n",
    "             \"db\": db}\n",
    "    \n",
    "    return grads, cost\n"
   ]
  }
 ],
 "metadata": {
  "kernelspec": {
   "display_name": "Python 3",
   "language": "python",
   "name": "python3"
  },
  "language_info": {
   "codemirror_mode": {
    "name": "ipython",
    "version": 3
   },
   "file_extension": ".py",
   "mimetype": "text/x-python",
   "name": "python",
   "nbconvert_exporter": "python",
   "pygments_lexer": "ipython3",
   "version": "3.8.5"
  }
 },
 "nbformat": 4,
 "nbformat_minor": 5
}
